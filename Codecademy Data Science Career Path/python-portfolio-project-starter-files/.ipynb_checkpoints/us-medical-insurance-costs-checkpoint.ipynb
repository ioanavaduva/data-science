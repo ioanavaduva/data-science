{
 "cells": [
  {
   "cell_type": "markdown",
   "metadata": {},
   "source": [
    "# U.S. Medical Insurance Costs"
   ]
  },
  {
   "cell_type": "markdown",
   "metadata": {},
   "source": [
    "Import library to be able to use the CSV file"
   ]
  },
  {
   "cell_type": "code",
   "execution_count": 1,
   "metadata": {},
   "outputs": [],
   "source": [
    "import csv"
   ]
  },
  {
   "cell_type": "markdown",
   "metadata": {},
   "source": [
    "Save your dataset via Python variables"
   ]
  },
  {
   "cell_type": "code",
   "execution_count": 51,
   "metadata": {},
   "outputs": [],
   "source": [
    "ages = []\n",
    "sex = []\n",
    "bmi = []\n",
    "no_children = []\n",
    "smoker = []\n",
    "regions = []\n",
    "costs = []\n",
    "\n",
    "with open('insurance.csv') as csvfile:\n",
    "    insurance_files = list(csv.DictReader(csvfile))\n",
    "    for row in insurance_files:\n",
    "        ages.append(row['age'])\n",
    "        sex.append(row['sex'])\n",
    "        bmi.append(row['bmi'])\n",
    "        no_children.append(row['children'])\n",
    "        smoker.append(row['smoker'])\n",
    "        regions.append(row['region'])\n",
    "        costs.append(row['charges'])\n"
   ]
  },
  {
   "cell_type": "markdown",
   "metadata": {},
   "source": [
    "Test the variables are working"
   ]
  },
  {
   "cell_type": "code",
   "execution_count": 53,
   "metadata": {},
   "outputs": [
    {
     "name": "stdout",
     "output_type": "stream",
     "text": [
      "16884.924\n"
     ]
    }
   ],
   "source": [
    "print(costs[0])"
   ]
  },
  {
   "cell_type": "markdown",
   "metadata": {},
   "source": [
    "Some possible ideas for analysis are the following:\n",
    "\n",
    "- Find out the average age of the patients in the dataset.\n"
   ]
  },
  {
   "cell_type": "code",
   "execution_count": 61,
   "metadata": {},
   "outputs": [
    {
     "name": "stdout",
     "output_type": "stream",
     "text": [
      "The average age is 39.20702541106129\n"
     ]
    }
   ],
   "source": [
    "ages_sum = 0\n",
    "for age in ages:\n",
    "    ages_sum += float(age)\n",
    "average_age = ages_sum/len(ages)\n",
    "print('The average age is ' + str(average_age))"
   ]
  },
  {
   "cell_type": "markdown",
   "metadata": {},
   "source": [
    "- Analyze where a majority of the individuals are from.\n"
   ]
  },
  {
   "cell_type": "code",
   "execution_count": 67,
   "metadata": {},
   "outputs": [],
   "source": [
    "def by_loc(dictio):\n",
    "  locs = {}\n",
    "  for i in range(len(dictio)):\n",
    "    current_loc = dictio[i]['region']\n",
    "    if current_loc not in locs:\n",
    "      locs[current_loc] = 1\n",
    "    else:\n",
    "      locs[current_loc] += 1\n",
    "  return locs\n"
   ]
  },
  {
   "cell_type": "code",
   "execution_count": 73,
   "metadata": {},
   "outputs": [
    {
     "name": "stdout",
     "output_type": "stream",
     "text": [
      "The most people come from southeast with 364 people.\n"
     ]
    }
   ],
   "source": [
    "locations = by_loc(insurance_files)\n",
    "print('The most people come from ' + str(max(locations, key=locations.get)) + ' with ' + str(locations[max(locations, key=locations.get)]) + ' people.')"
   ]
  },
  {
   "cell_type": "markdown",
   "metadata": {},
   "source": [
    "- Look at the different costs between smokers vs. non-smokers."
   ]
  },
  {
   "cell_type": "code",
   "execution_count": 84,
   "metadata": {},
   "outputs": [],
   "source": [
    "def smokers_fun(dictio):\n",
    "    smokers = {}\n",
    "    charges_yes = 0\n",
    "    charges_no = 0\n",
    "    for i in range(len(dictio)):\n",
    "        current_smoker = dictio[i]['smoker']\n",
    "        current_person = dictio[i]\n",
    "        if current_smoker not in smokers:\n",
    "            smokers[current_smoker] = 1 \n",
    "        else: \n",
    "            smokers[current_smoker] += 1\n",
    "        if current_smoker == 'yes':\n",
    "            charges_yes += float(dictio[i]['charges'])\n",
    "        else:\n",
    "            charges_no += float(dictio[i]['charges'])\n",
    "    return smokers, charges_yes, charges_no\n",
    "            "
   ]
  },
  {
   "cell_type": "code",
   "execution_count": 87,
   "metadata": {},
   "outputs": [
    {
     "name": "stdout",
     "output_type": "stream",
     "text": [
      "Avergage cost for smokers: 32050.23183153285\n",
      "Average cost for non-smokers: 8434.268297856199\n",
      "The difference between average smokers and non-smokers is 23615.96353367665\n"
     ]
    }
   ],
   "source": [
    "smokers_dict, yes, no = smokers_fun(insurance_files)\n",
    "average_yes = yes/smokers_dict['yes']\n",
    "print('Avergage cost for smokers: ' + str(average_yes))\n",
    "print('Average cost for non-smokers: ' + str(average_no))\n",
    "average_no = no/smokers_dict['no']\n",
    "difference = average_yes - average_no\n",
    "print('The difference between average smokers and non-smokers is ' + str(difference))"
   ]
  },
  {
   "cell_type": "markdown",
   "metadata": {},
   "source": [
    "- Figure out what the average age is for someone who has at least one child in this dataset."
   ]
  },
  {
   "cell_type": "code",
   "execution_count": 92,
   "metadata": {},
   "outputs": [],
   "source": [
    "def children(dictio):\n",
    "    age_sum = 0\n",
    "    have_children = 0\n",
    "    for record in dictio:\n",
    "        if int(record['children']) >= 1:\n",
    "            have_children += 1\n",
    "            age_sum += int(record['age'])\n",
    "    average_age = age_sum/have_children\n",
    "    return average_age"
   ]
  },
  {
   "cell_type": "code",
   "execution_count": 93,
   "metadata": {},
   "outputs": [
    {
     "name": "stdout",
     "output_type": "stream",
     "text": [
      "The average age of people with children is 39.78010471204188\n"
     ]
    }
   ],
   "source": [
    "avg_age = children(insurance_files)\n",
    "print('The average age of people with children is ' + str(avg_age))"
   ]
  },
  {
   "cell_type": "code",
   "execution_count": null,
   "metadata": {},
   "outputs": [],
   "source": []
  }
 ],
 "metadata": {
  "kernelspec": {
   "display_name": "Python 3",
   "language": "python",
   "name": "python3"
  },
  "language_info": {
   "codemirror_mode": {
    "name": "ipython",
    "version": 3
   },
   "file_extension": ".py",
   "mimetype": "text/x-python",
   "name": "python",
   "nbconvert_exporter": "python",
   "pygments_lexer": "ipython3",
   "version": "3.8.8"
  }
 },
 "nbformat": 4,
 "nbformat_minor": 4
}
